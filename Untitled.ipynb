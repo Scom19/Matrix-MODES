{
 "cells": [
  {
   "cell_type": "code",
   "execution_count": 3,
   "id": "8fca5bba-16d1-4b01-be68-b127b7360321",
   "metadata": {
    "tags": []
   },
   "outputs": [],
   "source": [
    "from ultralytics import YOLO #подключаем библиотеку\n",
    "import numpy\n",
    "import cv2\n",
    "model = YOLO('best.pt') # используем нашу обученную модель"
   ]
  },
  {
   "cell_type": "code",
   "execution_count": 7,
   "id": "a1367688-720e-44e5-98fa-84eb266f8ff4",
   "metadata": {
    "tags": []
   },
   "outputs": [
    {
     "name": "stderr",
     "output_type": "stream",
     "text": [
      "\n",
      "0: 800x800 4 cards, 1: 800x800 7 cards, 508.7ms\n",
      "Speed: 6.0ms preprocess, 254.3ms inference, 1.0ms postprocess per image at shape (1, 3, 800, 800)\n"
     ]
    },
    {
     "ename": "AttributeError",
     "evalue": "'Results' object has no attribute 'show'. See valid attributes below.\n\n    A class for storing and manipulating inference results.\n\n    Args:\n        orig_img (numpy.ndarray): The original image as a numpy array.\n        path (str): The path to the image file.\n        names (dict): A dictionary of class names.\n        boxes (torch.tensor, optional): A 2D tensor of bounding box coordinates for each detection.\n        masks (torch.tensor, optional): A 3D tensor of detection masks, where each mask is a binary image.\n        probs (torch.tensor, optional): A 1D tensor of probabilities of each class for classification task.\n        keypoints (List[List[float]], optional): A list of detected keypoints for each object.\n\n    Attributes:\n        orig_img (numpy.ndarray): The original image as a numpy array.\n        orig_shape (tuple): The original image shape in (height, width) format.\n        boxes (Boxes, optional): A Boxes object containing the detection bounding boxes.\n        masks (Masks, optional): A Masks object containing the detection masks.\n        probs (Probs, optional): A Probs object containing probabilities of each class for classification task.\n        keypoints (Keypoints, optional): A Keypoints object containing detected keypoints for each object.\n        speed (dict): A dictionary of preprocess, inference, and postprocess speeds in milliseconds per image.\n        names (dict): A dictionary of class names.\n        path (str): The path to the image file.\n        _keys (tuple): A tuple of attribute names for non-empty attributes.\n    ",
     "output_type": "error",
     "traceback": [
      "\u001b[1;31m---------------------------------------------------------------------------\u001b[0m",
      "\u001b[1;31mAttributeError\u001b[0m                            Traceback (most recent call last)",
      "Cell \u001b[1;32mIn[7], line 4\u001b[0m\n\u001b[0;32m      2\u001b[0m \u001b[38;5;28;01mfor\u001b[39;00m result \u001b[38;5;129;01min\u001b[39;00m results:\n\u001b[0;32m      3\u001b[0m     boxes \u001b[38;5;241m=\u001b[39m result\u001b[38;5;241m.\u001b[39mboxes  \u001b[38;5;66;03m# Boxes object for bounding box outputs\u001b[39;00m\n\u001b[1;32m----> 4\u001b[0m     result\u001b[38;5;241m.\u001b[39mshow()\n",
      "File \u001b[1;32m~\\anaconda3\\Lib\\site-packages\\ultralytics\\utils\\__init__.py:153\u001b[0m, in \u001b[0;36mSimpleClass.__getattr__\u001b[1;34m(self, attr)\u001b[0m\n\u001b[0;32m    151\u001b[0m \u001b[38;5;250m\u001b[39m\u001b[38;5;124;03m\"\"\"Custom attribute access error message with helpful information.\"\"\"\u001b[39;00m\n\u001b[0;32m    152\u001b[0m name \u001b[38;5;241m=\u001b[39m \u001b[38;5;28mself\u001b[39m\u001b[38;5;241m.\u001b[39m\u001b[38;5;18m__class__\u001b[39m\u001b[38;5;241m.\u001b[39m\u001b[38;5;18m__name__\u001b[39m\n\u001b[1;32m--> 153\u001b[0m \u001b[38;5;28;01mraise\u001b[39;00m \u001b[38;5;167;01mAttributeError\u001b[39;00m(\u001b[38;5;124mf\u001b[39m\u001b[38;5;124m\"\u001b[39m\u001b[38;5;124m'\u001b[39m\u001b[38;5;132;01m{\u001b[39;00mname\u001b[38;5;132;01m}\u001b[39;00m\u001b[38;5;124m'\u001b[39m\u001b[38;5;124m object has no attribute \u001b[39m\u001b[38;5;124m'\u001b[39m\u001b[38;5;132;01m{\u001b[39;00mattr\u001b[38;5;132;01m}\u001b[39;00m\u001b[38;5;124m'\u001b[39m\u001b[38;5;124m. See valid attributes below.\u001b[39m\u001b[38;5;130;01m\\n\u001b[39;00m\u001b[38;5;132;01m{\u001b[39;00m\u001b[38;5;28mself\u001b[39m\u001b[38;5;241m.\u001b[39m\u001b[38;5;18m__doc__\u001b[39m\u001b[38;5;132;01m}\u001b[39;00m\u001b[38;5;124m\"\u001b[39m)\n",
      "\u001b[1;31mAttributeError\u001b[0m: 'Results' object has no attribute 'show'. See valid attributes below.\n\n    A class for storing and manipulating inference results.\n\n    Args:\n        orig_img (numpy.ndarray): The original image as a numpy array.\n        path (str): The path to the image file.\n        names (dict): A dictionary of class names.\n        boxes (torch.tensor, optional): A 2D tensor of bounding box coordinates for each detection.\n        masks (torch.tensor, optional): A 3D tensor of detection masks, where each mask is a binary image.\n        probs (torch.tensor, optional): A 1D tensor of probabilities of each class for classification task.\n        keypoints (List[List[float]], optional): A list of detected keypoints for each object.\n\n    Attributes:\n        orig_img (numpy.ndarray): The original image as a numpy array.\n        orig_shape (tuple): The original image shape in (height, width) format.\n        boxes (Boxes, optional): A Boxes object containing the detection bounding boxes.\n        masks (Masks, optional): A Masks object containing the detection masks.\n        probs (Probs, optional): A Probs object containing probabilities of each class for classification task.\n        keypoints (Keypoints, optional): A Keypoints object containing detected keypoints for each object.\n        speed (dict): A dictionary of preprocess, inference, and postprocess speeds in milliseconds per image.\n        names (dict): A dictionary of class names.\n        path (str): The path to the image file.\n        _keys (tuple): A tuple of attribute names for non-empty attributes.\n    "
     ]
    }
   ],
   "source": [
    "#Получение координат и вывод на экран обработанных изображений\n",
    "results = model.track(source=[\"im1.jpg\",\"im2.jpg\"])\n",
    "for result in results:\n",
    "    boxes = result.boxes  # Boxes object for bounding box outputs\n",
    "    result.show()  # display to screen"
   ]
  },
  {
   "cell_type": "code",
   "execution_count": 4,
   "id": "9288322b-6046-4cf2-beb1-86ed32d91389",
   "metadata": {
    "tags": []
   },
   "outputs": [
    {
     "name": "stderr",
     "output_type": "stream",
     "text": [
      "\n",
      "image 1/1 C:\\Users\\Admin\\Downloads\\MyGlavprojjj\\im2.jpg: 544x800 7 cards, 276.4ms\n",
      "Speed: 7.3ms preprocess, 276.4ms inference, 2.0ms postprocess per image at shape (1, 3, 544, 800)\n"
     ]
    },
    {
     "name": "stdout",
     "output_type": "stream",
     "text": [
      "tensor([[181.7364, 145.0213, 214.8719, 181.8114],\n",
      "        [572.1534, 153.1341, 601.1454, 180.1096],\n",
      "        [488.0485, 162.5330, 533.5107, 202.4734],\n",
      "        [107.9513, 157.0452, 169.7008, 222.3332],\n",
      "        [347.9647,  95.9520, 373.6265, 123.6322],\n",
      "        [455.8835,  71.4241, 476.7845,  92.4549],\n",
      "        [602.9443,  67.3565, 626.4562,  89.6184]])\n",
      "tensor([[198.3041, 163.4164,  33.1355,  36.7901],\n",
      "        [586.6494, 166.6219,  28.9921,  26.9755],\n",
      "        [510.7796, 182.5032,  45.4622,  39.9404],\n",
      "        [138.8260, 189.6892,  61.7495,  65.2879],\n",
      "        [360.7956, 109.7921,  25.6618,  27.6802],\n",
      "        [466.3340,  81.9395,  20.9010,  21.0308],\n",
      "        [614.7003,  78.4875,  23.5119,  22.2619]])\n"
     ]
    }
   ],
   "source": [
    "#Получение координат\n",
    "source = \"im2.jpg\"\n",
    "results = model(source)  # list of Results objects\n",
    "for result in results:\n",
    "    boxes = result.boxes\n",
    "print(boxes.xyxy) #Кординаты выделенных вадратов в виде координат xyxy\n",
    "print(boxes.xywh) #Координаты выделеных квадратов в виде xywh"
   ]
  },
  {
   "cell_type": "code",
   "execution_count": 5,
   "id": "2556c630-b2ff-4fd7-b7e1-fe413b23f4af",
   "metadata": {
    "tags": []
   },
   "outputs": [],
   "source": [
    "#Функция вырезки изображений\n",
    "def crop_image(image_path, coordinates):\n",
    "    # Чтение изображения\n",
    "    img = cv2.imread(image_path)\n",
    "    # Обрезка изображения по каждым координатам\n",
    "    cropped_images = []\n",
    "    for coords in coordinates:\n",
    "        x1, y1, x2, y2 = map(int, coords)\n",
    "        cropped_img = img[y1:y2, x1:x2]\n",
    "        cropped_images.append(cropped_img)\n",
    "    return cropped_images"
   ]
  },
  {
   "cell_type": "code",
   "execution_count": 6,
   "id": "2715aacb-60a3-452d-b05c-1528a74d7ecf",
   "metadata": {
    "tags": []
   },
   "outputs": [],
   "source": [
    "#Демонстрация вырезанных изображений\n",
    "def show_images(images):\n",
    "    for img in images:\n",
    "        cv2.imshow('Cropped Image', img)\n",
    "        cv2.waitKey(0) # смена изображения после нажатия на клавитуру \n",
    "        cv2.destroyAllWindows()"
   ]
  },
  {
   "cell_type": "code",
   "execution_count": 7,
   "id": "d33d8f01-b1ef-43bf-89b0-05c89d580133",
   "metadata": {
    "tags": []
   },
   "outputs": [
    {
     "name": "stderr",
     "output_type": "stream",
     "text": [
      "\n",
      "image 1/1 C:\\Users\\Admin\\Downloads\\MyGlavprojjj\\im2.jpg: 544x800 7 cards, 272.6ms\n",
      "Speed: 5.0ms preprocess, 272.6ms inference, 1.0ms postprocess per image at shape (1, 3, 544, 800)\n"
     ]
    }
   ],
   "source": [
    "#Пример с вырезкой:\n",
    "results = model(source)  # list of Results objects\n",
    "boxes = results[0].boxes\n",
    "images = crop_image('im2.jpg', boxes.xyxy)\n",
    "show_images(images)"
   ]
  },
  {
   "cell_type": "code",
   "execution_count": null,
   "id": "ad82ab97-de74-4f90-8b5d-177e493430ed",
   "metadata": {},
   "outputs": [],
   "source": []
  }
 ],
 "metadata": {
  "kernelspec": {
   "display_name": "Python 3 (ipykernel)",
   "language": "python",
   "name": "python3"
  },
  "language_info": {
   "codemirror_mode": {
    "name": "ipython",
    "version": 3
   },
   "file_extension": ".py",
   "mimetype": "text/x-python",
   "name": "python",
   "nbconvert_exporter": "python",
   "pygments_lexer": "ipython3",
   "version": "3.11.5"
  }
 },
 "nbformat": 4,
 "nbformat_minor": 5
}
